{
 "cells": [
  {
   "cell_type": "code",
   "execution_count": null,
   "id": "c4390815",
   "metadata": {},
   "outputs": [],
   "source": [
    "import pyfirmata as pf\n",
    "from time import sleep"
   ]
  },
  {
   "cell_type": "code",
   "execution_count": null,
   "id": "3db56c80",
   "metadata": {},
   "outputs": [],
   "source": [
    "#Set up arduino\n",
    "board = pf.Arduino('COM3')\n",
    "it = pf.util.Iterator(board)\n",
    "it.start()"
   ]
  },
  {
   "cell_type": "code",
   "execution_count": null,
   "id": "413e02b5",
   "metadata": {},
   "outputs": [],
   "source": [
    "#get pins ready \n",
    "a0 = board.get_pin('a:0:i')\n",
    "a1 = board.get_pin('a:1:i')\n",
    "a2 = board.get_pin('a:2:i')"
   ]
  },
  {
   "cell_type": "code",
   "execution_count": null,
   "id": "3a7edb51",
   "metadata": {},
   "outputs": [],
   "source": [
    "#open file where data will be collected\n",
    "f = open('181ReportData1.txt', 'w')"
   ]
  },
  {
   "cell_type": "code",
   "execution_count": null,
   "id": "44028a39",
   "metadata": {},
   "outputs": [],
   "source": [
    "with open('181ReportData1.txt', 'w') as f:\n",
    "    for x in range(180):\n",
    "        \n",
    "        #reference variables\n",
    "        t_init = 0\n",
    "        r_init = 1000\n",
    "        alpha = 0.00385\n",
    "\n",
    "        #find voltage\n",
    "        v0 = a0.read() *5\n",
    "        v1 = a1.read() *5\n",
    "        v2 = a2.read() *5\n",
    "\n",
    "        #find resistance of RTD\n",
    "        i = (v0-v1)/3869\n",
    "        r = (v1-v2)/i\n",
    "\n",
    "        #calculate temperature\n",
    "        t = t_init + (1/alpha)*((r/r_init) - 1)\n",
    "        \n",
    "        #write and format data into file\n",
    "        f.write(str(x) + '\\t' + str(t) + '\\n')\n",
    "    \n",
    "        #data is collected once a minute\n",
    "        sleep(60)"
   ]
  }
 ],
 "metadata": {
  "kernelspec": {
   "display_name": "Python 3",
   "language": "python",
   "name": "python3"
  },
  "language_info": {
   "codemirror_mode": {
    "name": "ipython",
    "version": 3
   },
   "file_extension": ".py",
   "mimetype": "text/x-python",
   "name": "python",
   "nbconvert_exporter": "python",
   "pygments_lexer": "ipython3",
   "version": "3.8.8"
  }
 },
 "nbformat": 4,
 "nbformat_minor": 5
}
